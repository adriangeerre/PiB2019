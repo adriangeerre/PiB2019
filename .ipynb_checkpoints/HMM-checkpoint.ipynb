{
 "cells": [
  {
   "cell_type": "markdown",
   "metadata": {},
   "source": [
    "#### Genome reader"
   ]
  },
  {
   "cell_type": "code",
   "execution_count": 24,
   "metadata": {},
   "outputs": [],
   "source": [
    "def read_fasta_file(filename):\n",
    "    \"\"\"\n",
    "    Reads the given FASTA file f and returns a dictionary of sequences.\n",
    "\n",
    "    Lines starting with ';' in the FASTA file are ignored.\n",
    "    \"\"\"\n",
    "    sequences_lines = {}\n",
    "    current_sequence_lines = None\n",
    "    with open(filename) as fp:\n",
    "        for line in fp:\n",
    "            line = line.strip()\n",
    "            if line.startswith(';') or not line:\n",
    "                continue\n",
    "            if line.startswith('>'):\n",
    "                sequence_name = line.lstrip('>')\n",
    "                current_sequence_lines = []\n",
    "                sequences_lines[sequence_name] = current_sequence_lines\n",
    "            else:\n",
    "                if current_sequence_lines is not None:\n",
    "                    current_sequence_lines.append(line)\n",
    "    sequences = {}\n",
    "    for name, lines in sequences_lines.items():\n",
    "        sequences[name] = ''.join(lines)\n",
    "    return sequences"
   ]
  },
  {
   "cell_type": "code",
   "execution_count": 25,
   "metadata": {},
   "outputs": [],
   "source": [
    "g1 = read_fasta_file('../Project/genome1.fa')\n",
    "g2 = read_fasta_file('../Project/genome2.fa')\n",
    "t1 = read_fasta_file('../Project/true-ann1.fa')\n",
    "t2 = read_fasta_file('../Project/true-ann2.fa')"
   ]
  },
  {
   "cell_type": "markdown",
   "metadata": {},
   "source": [
    "#### Hidden Markov model"
   ]
  },
  {
   "cell_type": "code",
   "execution_count": 26,
   "metadata": {},
   "outputs": [],
   "source": [
    "class hmm:\n",
    "    def __init__(self, init_probs, trans_probs, emission_probs):\n",
    "        self.init_probs = init_probs\n",
    "        self.trans_probs = trans_probs\n",
    "        self.emission_probs = emission_probs"
   ]
  },
  {
   "cell_type": "code",
   "execution_count": 27,
   "metadata": {},
   "outputs": [],
   "source": [
    "init_probs_7_state = [0.00, 0.00, 0.00, 1.00, 0.00, 0.00, 0.00]\n",
    "\n",
    "trans_probs_7_state = [\n",
    "    [0.00, 0.00, 0.90, 0.10, 0.00, 0.00, 0.00],\n",
    "    [1.00, 0.00, 0.00, 0.00, 0.00, 0.00, 0.00],\n",
    "    [0.00, 1.00, 0.00, 0.00, 0.00, 0.00, 0.00],\n",
    "    [0.00, 0.00, 0.05, 0.90, 0.05, 0.00, 0.00],\n",
    "    [0.00, 0.00, 0.00, 0.00, 0.00, 1.00, 0.00],\n",
    "    [0.00, 0.00, 0.00, 0.00, 0.00, 0.00, 1.00],\n",
    "    [0.00, 0.00, 0.00, 0.10, 0.90, 0.00, 0.00],\n",
    "]\n",
    "\n",
    "emission_probs_7_state = [\n",
    "    #   A     C     G     T\n",
    "    [0.30, 0.25, 0.25, 0.20],\n",
    "    [0.20, 0.35, 0.15, 0.30],\n",
    "    [0.40, 0.15, 0.20, 0.25],\n",
    "    [0.25, 0.25, 0.25, 0.25],\n",
    "    [0.20, 0.40, 0.30, 0.10],\n",
    "    [0.30, 0.20, 0.30, 0.20],\n",
    "    [0.15, 0.30, 0.20, 0.35],\n",
    "]\n",
    "\n",
    "hmm_7_state = hmm(init_probs_7_state, trans_probs_7_state, emission_probs_7_state)"
   ]
  },
  {
   "cell_type": "code",
   "execution_count": 28,
   "metadata": {},
   "outputs": [],
   "source": [
    "init_probs_3_state = [0.00, 0.10, 0.00]\n",
    "\n",
    "trans_probs_3_state = [\n",
    "    [0.90, 0.10, 0.00],\n",
    "    [0.05, 0.90, 0.05],\n",
    "    [0.00, 0.10, 0.90],\n",
    "]\n",
    "\n",
    "emission_probs_3_state = [\n",
    "    #   A     C     G     T\n",
    "    [0.40, 0.15, 0.20, 0.25],\n",
    "    [0.25, 0.25, 0.25, 0.25],\n",
    "    [0.20, 0.40, 0.30, 0.10],\n",
    "]\n",
    "\n",
    "hmm_3_state = hmm(init_probs_3_state, trans_probs_3_state, emission_probs_3_state)"
   ]
  },
  {
   "cell_type": "code",
   "execution_count": 29,
   "metadata": {},
   "outputs": [],
   "source": [
    "def translate_indices_to_path_7state(indices):\n",
    "    mapping = ['C', 'C', 'C', 'N', 'R', 'R', 'R']\n",
    "    return ''.join([mapping[i] for i in indices])\n",
    "\n",
    "def translate_indices_to_path_3state(indices):\n",
    "    mapping = ['C', 'N', 'R']\n",
    "    return ''.join([mapping[i] for i in indices])\n",
    "\n",
    "def translate_observations_to_indices(obs):\n",
    "    mapping = {'a': 0, 'c': 1, 'g': 2, 't': 3}\n",
    "    return [mapping[symbol.lower()] for symbol in obs]\n",
    "\n",
    "def translate_indices_to_observations(indices):\n",
    "    mapping = ['a', 'c', 'g', 't']\n",
    "    return ''.join(mapping[idx] for idx in indices)"
   ]
  },
  {
   "cell_type": "code",
   "execution_count": 30,
   "metadata": {},
   "outputs": [],
   "source": [
    "def make_table(m, n):\n",
    "    \"\"\"Make a table with `m` rows and `n` columns filled with zeros.\"\"\"\n",
    "    return [[0] * n for _ in range(m)]"
   ]
  },
  {
   "cell_type": "markdown",
   "metadata": {},
   "source": [
    "#### Viterbi decoding"
   ]
  },
  {
   "cell_type": "code",
   "execution_count": 9,
   "metadata": {},
   "outputs": [],
   "source": [
    "def compute_w_log(model, x):\n",
    "    k = len(model.init_probs)\n",
    "    n = len(x)\n",
    "    \n",
    "    w = make_table(k, n)\n",
    "    \n",
    "    init = model.init_probs\n",
    "    trans = model.trans_probs\n",
    "    emission = model.emission_probs\n",
    "    \n",
    "    # Base case: fill out w[i][0] for i = 0..k-1\n",
    "    \n",
    "    for i in range(0,k):\n",
    "        w[i][0] = log(init[i]) + log(emission[i][x[0]])\n",
    "    \n",
    "    # Inductive case: fill out w[i][j] for i = 0..k, j = 0..n-1\n",
    "                   \n",
    "    for j in range(0,n-1):\n",
    "        for i in range(0,k):\n",
    "            w[i][j+1] = log(0)\n",
    "            for l in range(0,k):\n",
    "                w[i][j+1] = max(w[i][j+1], w[l][j] + log(emission[i][x[j+1]])\n",
    "                                + log(trans[l][i]))\n",
    "            \n",
    "    return w\n",
    "    \n",
    "def opt_path_prob_log(w):\n",
    "    x = len(w[0])\n",
    "    v = log(0)\n",
    "    for i in range(0,len(w)):\n",
    "        v = max(v, w[i][x-1])\n",
    "                \n",
    "    return v"
   ]
  },
  {
   "cell_type": "code",
   "execution_count": 10,
   "metadata": {},
   "outputs": [],
   "source": [
    "def backtrack_log(model,w,x):\n",
    "    trans = model.trans_probs\n",
    "    emission = model.emission_probs\n",
    "    z = []\n",
    "    n = len(w[0])\n",
    "    k = len(w)\n",
    "    # v = 0\n",
    "    \n",
    "    #base case\n",
    "    for i in range(0,k):\n",
    "        if w[i][n-1] == opt_path_prob_log(w):\n",
    "            z.append(i)\n",
    "    \n",
    "    # Inductive case / Tomamos el máximo, dividimos entre la probabilidad de emission y transición.\n",
    "    t = 0\n",
    "    for j in range(n-1,0,-1):\n",
    "        counter = 1\n",
    "        for i in range(0,k):\n",
    "            if w[z[t]][j] == w[i][j-1] + log(emission[z[t]][x[j]]) + log(trans[i][z[t]]) and counter == 1:\n",
    "                z.append(i)\n",
    "                counter += 1\n",
    "        t += 1\n",
    "          \n",
    "    return(z[::-1])"
   ]
  },
  {
   "cell_type": "markdown",
   "metadata": {},
   "source": [
    "#### Posterior decoding"
   ]
  },
  {
   "cell_type": "markdown",
   "metadata": {},
   "source": [
    "#### Scale"
   ]
  },
  {
   "cell_type": "code",
   "execution_count": 8,
   "metadata": {},
   "outputs": [],
   "source": [
    "def compute_alpha_scale(model, x):\n",
    "    k = len(model.init_probs)\n",
    "    n = len(x)\n",
    "    \n",
    "    init = model.init_probs\n",
    "    trans = model.trans_probs\n",
    "    emission = model.emission_probs\n",
    "\n",
    "    alpha = make_table(n,k)\n",
    "    \n",
    "    # Base case\n",
    "    cn = []\n",
    "    factor = 0\n",
    "    for i in range(0,k):\n",
    "        alpha[0][i] = init[i] * emission[i][x[0]]\n",
    "        factor += alpha[0][i]\n",
    "        \n",
    "    cn.append(factor)\n",
    "    for h in range(0,k):\n",
    "        alpha[0][h] /= factor\n",
    "\n",
    "    # Inductive case    \n",
    "    for j in range(0,n-1):\n",
    "        factor = 0\n",
    "        for i in range(0,k):\n",
    "            for l in range(0,k):\n",
    "                alpha[j+1][i] += alpha[j][l] * trans[l][i]\n",
    "            alpha[j+1][i] *= emission[i][x[j+1]]\n",
    "            factor += alpha[j+1][i]\n",
    "        cn.append(factor)\n",
    "        for i in range(0,k): \n",
    "            alpha[j+1][i] /= factor\n",
    "\n",
    "    return(alpha,cn)"
   ]
  },
  {
   "cell_type": "code",
   "execution_count": 9,
   "metadata": {},
   "outputs": [],
   "source": [
    "def compute_beta_scale(model, x, cn):\n",
    "    k = len(model.init_probs)\n",
    "    n = len(x)\n",
    "    \n",
    "    beta = make_table(n, k)    \n",
    "    \n",
    "    init = model.init_probs\n",
    "    trans = model.trans_probs\n",
    "    emission = model.emission_probs\n",
    "    \n",
    "    # Base case\n",
    "    \n",
    "    for i in range(0,k):\n",
    "        beta[n-1][i] = 1\n",
    "  \n",
    "    # Inductive case\n",
    "    \n",
    "    for j in range(n-2,-1,-1):\n",
    "        for i in range(0,k):\n",
    "            val = 0\n",
    "            for l in range(0,k):\n",
    "                beta[j][i] += beta[j+1][l] * emission[l][x[j+1]] * trans[i][l]\n",
    "            beta[j][i] /= cn[j+1]\n",
    "            \n",
    "    return beta"
   ]
  },
  {
   "cell_type": "code",
   "execution_count": 10,
   "metadata": {},
   "outputs": [],
   "source": [
    "def posterior_decoding(model, x):\n",
    "    alpha_var = compute_alpha_scale(model,x)\n",
    "    alpha = alpha_var[0]\n",
    "    beta = compute_beta_scale(model,x,alpha_var[1])\n",
    "    \n",
    "    k = len(model.init_probs)\n",
    "    n = len(x)\n",
    "    \n",
    "    post = []\n",
    "    for j in range(0,n):\n",
    "        post.append([alpha[j][i] * beta[j][i] for i in range(0,k)])\n",
    "            \n",
    "    z = []\n",
    "    for j in range(0,n):\n",
    "        count = 0\n",
    "        for i in range(0,k):\n",
    "            if post[j][i] == max(post[j]) and count == 0:\n",
    "                z.append(i)\n",
    "                count += 1\n",
    "\n",
    "    return z"
   ]
  },
  {
   "cell_type": "markdown",
   "metadata": {},
   "source": [
    "#### Logarithm"
   ]
  },
  {
   "cell_type": "code",
   "execution_count": 31,
   "metadata": {},
   "outputs": [],
   "source": [
    "import math\n",
    "\n",
    "def log(x):\n",
    "    if x == 0:\n",
    "        return float('-inf')\n",
    "    return math.log(x)\n",
    "\n",
    "# EEXP(x)\n",
    "\n",
    "def eexp(x):\n",
    "    if x == float('-inf'):\n",
    "        return 0\n",
    "    else:\n",
    "        return math.exp(x)\n",
    "\n",
    "# ELN(x)\n",
    "\n",
    "def eln(x):\n",
    "    if x == 0:\n",
    "        return float(\"-inf\")\n",
    "    elif x > 0:\n",
    "        return math.log(x)\n",
    "\n",
    "# ELNSUM(ELN(x),ELN(y))\n",
    "\n",
    "def elnsum(x,y):\n",
    "    if x == float(\"-inf\") or y == float(\"-inf\"):\n",
    "        if x == float(\"-inf\"):\n",
    "            return y\n",
    "        else:\n",
    "            return x\n",
    "    else:\n",
    "        if x > y:\n",
    "            return(x + eln(1 + math.exp(y - x)))\n",
    "        else:\n",
    "            return(y + eln(1 + math.exp(x - y)))\n",
    "\n",
    "# ELNPRODUCT(ELN(x),ELN(y))\n",
    "\n",
    "def elnproduct(x,y):\n",
    "    if x == float(\"-inf\") or y == float(\"-inf\"):\n",
    "        return float(\"-inf\")\n",
    "    else:\n",
    "        return(x + y)"
   ]
  },
  {
   "cell_type": "code",
   "execution_count": 32,
   "metadata": {},
   "outputs": [],
   "source": [
    "def make_table_log(m, n):\n",
    "    \"\"\"Make a table with `m` rows and `n` columns filled with zeros.\"\"\"\n",
    "    return [[float(\"-inf\")] * n for _ in range(m)]"
   ]
  },
  {
   "cell_type": "code",
   "execution_count": 33,
   "metadata": {},
   "outputs": [],
   "source": [
    "def compute_alfa_log(model, x):\n",
    "    k = len(model.init_probs)\n",
    "    n = len(x)\n",
    "    \n",
    "    init = model.init_probs\n",
    "    trans = model.trans_probs\n",
    "    emission = model.emission_probs\n",
    "\n",
    "    alfa_log = make_table_log(n,k)\n",
    "    \n",
    "    # Base case: fill out w[i][0] for i = 0..k-1\n",
    "    \n",
    "    for i in range(0,k):\n",
    "        alfa_log[0][i] = elnproduct(eln(init[i]),eln(emission[i][x[0]]))\n",
    "        \n",
    "    # Inductive case: fill out w[i][j] for i = 0..k, j = 0..n-1\n",
    "    \n",
    "    for j in range(0,n-1):\n",
    "        for i in range(0,k):\n",
    "            for l in range(0,k):\n",
    "                alfa_log[j+1][i] = elnsum(alfa_log[j+1][i],elnproduct(alfa_log[j][l], eln(trans[l][i])))\n",
    "            alfa_log[j+1][i] = elnproduct(alfa_log[j+1][i],eln(emission[i][x[j+1]]))\n",
    "\n",
    "    return(alfa_log)"
   ]
  },
  {
   "cell_type": "code",
   "execution_count": 34,
   "metadata": {},
   "outputs": [],
   "source": [
    "def compute_beta_log(model, x):\n",
    "    k = len(model.init_probs)\n",
    "    n = len(x)\n",
    "    \n",
    "    beta_log = make_table_log(n, k)    \n",
    "    \n",
    "    init = model.init_probs\n",
    "    trans = model.trans_probs\n",
    "    emission = model.emission_probs\n",
    "    \n",
    "    # Base case: fill out beta_log[i][0] for i = 0..k-1\n",
    "    \n",
    "    for i in range(0,k):\n",
    "        beta_log[n-1][i] = 0\n",
    "  \n",
    "    # Inductive case: fill out beta_log[i][j] for i = 0..k, j = 0..n-1\n",
    "    \n",
    "    for j in range(n-1,0,-1):\n",
    "        for i in range(0,k):\n",
    "            for l in range(0,k):\n",
    "                beta_log[j-1][i] = elnsum(beta_log[j-1][i],\n",
    "                                          elnproduct(eln(trans[i][l]),\n",
    "                                                     elnproduct(eln(emission[l][x[j]]),beta_log[j][l])))\n",
    "            \n",
    "    return beta_log"
   ]
  },
  {
   "cell_type": "code",
   "execution_count": 35,
   "metadata": {},
   "outputs": [],
   "source": [
    "def posterior_decoding_log(model, x):\n",
    "    alfa_log = compute_alfa_log(model,x)\n",
    "    beta_log = compute_beta_log(model,x)\n",
    "    \n",
    "    k = len(model.init_probs)\n",
    "    n = len(x)\n",
    "    \n",
    "    z = []\n",
    "    for j in range(0,n):\n",
    "        post = []\n",
    "        for i in range(0,k):\n",
    "            val = alfa_log[j][i] + beta_log[j][i]\n",
    "            post.append(val)\n",
    "            # print(post)\n",
    "        \n",
    "        count = 0\n",
    "        for i in range(0,k):\n",
    "            if max(post) == post[i] and count == 0:\n",
    "                z.append(i)\n",
    "                count += 1\n",
    "    \n",
    "    return z"
   ]
  },
  {
   "cell_type": "markdown",
   "metadata": {},
   "source": [
    "#### Accuracy"
   ]
  },
  {
   "cell_type": "code",
   "execution_count": 36,
   "metadata": {},
   "outputs": [],
   "source": [
    "def compute_accuracy(true_ann, pred_ann):\n",
    "    if len(true_ann) != len(pred_ann):\n",
    "        return 0.0\n",
    "    return sum(1 if true_ann[i] == pred_ann[i] else 0 \n",
    "               for i in range(len(true_ann))) / len(true_ann)"
   ]
  },
  {
   "cell_type": "markdown",
   "metadata": {},
   "source": [
    "#### Genome 1"
   ]
  },
  {
   "cell_type": "markdown",
   "metadata": {},
   "source": [
    "##### 3 states"
   ]
  },
  {
   "cell_type": "code",
   "execution_count": 37,
   "metadata": {},
   "outputs": [],
   "source": [
    "from time import time"
   ]
  },
  {
   "cell_type": "code",
   "execution_count": 43,
   "metadata": {},
   "outputs": [
    {
     "name": "stdout",
     "output_type": "stream",
     "text": [
      "Accuracy: 0.31873349812490653 \n",
      " Time: 22.304145336151123\n"
     ]
    }
   ],
   "source": [
    "# Accuracy Vitebi decoding 3 states\n",
    "\n",
    "start_time = time()\n",
    "\n",
    "w = compute_w_log(hmm_3_state, translate_observations_to_indices(g1['genome1']))\n",
    "z_viterbi_log = backtrack_log(hmm_3_state, w, translate_observations_to_indices(g1['genome1']))\n",
    "v_13 = translate_indices_to_path_3state(z_viterbi_log)\n",
    "\n",
    "x = compute_accuracy(t1['true-ann1'],v_13)\n",
    "\n",
    "elapsed_time = time() - start_time\n",
    "\n",
    "print('Accuracy:',x,'\\n','Time:',elapsed_time)"
   ]
  },
  {
   "cell_type": "code",
   "execution_count": 44,
   "metadata": {},
   "outputs": [
    {
     "name": "stdout",
     "output_type": "stream",
     "text": [
      "Accuracy: 0.3020501057793474 \n",
      " Time: 22.38943600654602\n"
     ]
    }
   ],
   "source": [
    "# Accuracy Posterior decoding scaled 3 states\n",
    "\n",
    "start_time = time()\n",
    "\n",
    "z_posterior_scale = posterior_decoding(hmm_3_state, translate_observations_to_indices(g1['genome1']))\n",
    "p_13_scale = translate_indices_to_path_3state(z_posterior_scale)\n",
    "\n",
    "x = compute_accuracy(t1['true-ann1'],p_13_scale)\n",
    "\n",
    "elapsed_time = time() - start_time\n",
    "\n",
    "print('Accuracy:',x,'\\n','Time:',elapsed_time)"
   ]
  },
  {
   "cell_type": "code",
   "execution_count": 38,
   "metadata": {},
   "outputs": [
    {
     "name": "stdout",
     "output_type": "stream",
     "text": [
      "Accuracy: 0.3020501057793474 \n",
      " Time: 71.38135409355164\n"
     ]
    }
   ],
   "source": [
    "# Accuracy Posterior decoding log scaling 3 states\n",
    "\n",
    "start_time = time()\n",
    "\n",
    "z_posterior = posterior_decoding_log(hmm_3_state, translate_observations_to_indices(g1['genome1']))\n",
    "p_13_log = translate_indices_to_path_3state(z_posterior)\n",
    "\n",
    "x = compute_accuracy(t1['true-ann1'],p_13_log)\n",
    "\n",
    "elapsed_time = time() - start_time\n",
    "\n",
    "print('Accuracy:',x,'\\n','Time:',elapsed_time)"
   ]
  },
  {
   "cell_type": "markdown",
   "metadata": {},
   "source": [
    "##### 7 states"
   ]
  },
  {
   "cell_type": "code",
   "execution_count": 46,
   "metadata": {},
   "outputs": [
    {
     "name": "stdout",
     "output_type": "stream",
     "text": [
      "Accuracy: 0.3919363693634507 \n",
      " Time: 94.49262547492981\n"
     ]
    }
   ],
   "source": [
    "# Accuracy Vitebi decoding 7 states\n",
    "\n",
    "start_time = time()\n",
    "\n",
    "w = compute_w_log(hmm_7_state, translate_observations_to_indices(g1['genome1']))\n",
    "z_viterbi_log = backtrack_log(hmm_7_state, w, translate_observations_to_indices(g1['genome1']))\n",
    "v_17 = translate_indices_to_path_7state(z_viterbi_log)\n",
    "\n",
    "x = compute_accuracy(t1['true-ann1'],v_17)\n",
    "\n",
    "elapsed_time = time() - start_time\n",
    "\n",
    "print('Accuracy:',x,'\\n','Time:',elapsed_time)"
   ]
  },
  {
   "cell_type": "code",
   "execution_count": 48,
   "metadata": {},
   "outputs": [
    {
     "name": "stdout",
     "output_type": "stream",
     "text": [
      "Accuracy: 0.3563395541342477 \n",
      " Time: 66.42578935623169\n"
     ]
    }
   ],
   "source": [
    "# Accuracy Posterior decoding scaled 7 states\n",
    "\n",
    "start_time = time()\n",
    "\n",
    "z_posterior_scale = posterior_decoding(hmm_7_state, translate_observations_to_indices(g1['genome1']))\n",
    "p_17_scale = translate_indices_to_path_7state(z_posterior_scale)\n",
    "\n",
    "x = compute_accuracy(t1['true-ann1'],p_17_scale)\n",
    "                     \n",
    "elapsed_time = time() - start_time\n",
    "\n",
    "print('Accuracy:',x,'\\n','Time:',elapsed_time)"
   ]
  },
  {
   "cell_type": "code",
   "execution_count": 39,
   "metadata": {},
   "outputs": [
    {
     "name": "stdout",
     "output_type": "stream",
     "text": [
      "Accuracy: 0.3563395541342477 \n",
      " Time: 346.2593665122986\n"
     ]
    }
   ],
   "source": [
    "# Accuracy Posterior decoding log scaling 7 states\n",
    "\n",
    "start_time = time()\n",
    "\n",
    "z_posterior = posterior_decoding_log(hmm_7_state, translate_observations_to_indices(g1['genome1']))\n",
    "p_17_log = translate_indices_to_path_7state(z_posterior)\n",
    "\n",
    "x = compute_accuracy(t1['true-ann1'],p_17_log)\n",
    "\n",
    "elapsed_time = time() - start_time\n",
    "\n",
    "print('Accuracy:',x,'\\n','Time:',elapsed_time)"
   ]
  },
  {
   "cell_type": "markdown",
   "metadata": {},
   "source": [
    "#### Genome 2"
   ]
  },
  {
   "cell_type": "markdown",
   "metadata": {},
   "source": [
    "##### 3 states"
   ]
  },
  {
   "cell_type": "code",
   "execution_count": 50,
   "metadata": {},
   "outputs": [
    {
     "name": "stdout",
     "output_type": "stream",
     "text": [
      "Accuracy: 0.35088368223162264 \n",
      " Time: 28.41873288154602\n"
     ]
    }
   ],
   "source": [
    "# Accuracy Viterbi decoding 3 states\n",
    "\n",
    "start_time = time()\n",
    "\n",
    "w = compute_w_log(hmm_3_state, translate_observations_to_indices(g2['genome2']))\n",
    "z_viterbi_log = backtrack_log(hmm_3_state, w, translate_observations_to_indices(g2['genome2']))\n",
    "v_23 = translate_indices_to_path_3state(z_viterbi_log)\n",
    "\n",
    "x = compute_accuracy(t2['true-ann2'],v_23)\n",
    "\n",
    "elapsed_time = time() - start_time\n",
    "\n",
    "print('Accuracy:',x,'\\n','Time:',elapsed_time)"
   ]
  },
  {
   "cell_type": "code",
   "execution_count": 51,
   "metadata": {},
   "outputs": [
    {
     "name": "stdout",
     "output_type": "stream",
     "text": [
      "Accuracy: 0.2972260720737423 \n",
      " Time: 23.431922912597656\n"
     ]
    }
   ],
   "source": [
    "# Accuracy Posterior decoding scaled 3 states\n",
    "\n",
    "start_time = time()\n",
    "\n",
    "z_posterior_scale = posterior_decoding(hmm_3_state, translate_observations_to_indices(g2['genome2']))\n",
    "p_23_scale = translate_indices_to_path_3state(z_posterior_scale)\n",
    "\n",
    "x = compute_accuracy(t2['true-ann2'],p_23_scale)\n",
    "\n",
    "elapsed_time = time() - start_time\n",
    "\n",
    "print('Accuracy:',x,'\\n','Time:',elapsed_time)"
   ]
  },
  {
   "cell_type": "code",
   "execution_count": 40,
   "metadata": {},
   "outputs": [
    {
     "name": "stdout",
     "output_type": "stream",
     "text": [
      "Accuracy: 0.2972260720737423 \n",
      " Time: 87.48189091682434\n"
     ]
    }
   ],
   "source": [
    "# Accuracy Posterior decoding log 3 states\n",
    "\n",
    "start_time = time()\n",
    "\n",
    "z_posterior = posterior_decoding_log(hmm_3_state, translate_observations_to_indices(g2['genome2']))\n",
    "p_23_log = translate_indices_to_path_3state(z_posterior)\n",
    "\n",
    "x = compute_accuracy(t2['true-ann2'],p_23_log)\n",
    "\n",
    "elapsed_time = time() - start_time\n",
    "\n",
    "print('Accuracy:',x,'\\n','Time:',elapsed_time)"
   ]
  },
  {
   "cell_type": "markdown",
   "metadata": {},
   "source": [
    "##### 7 states"
   ]
  },
  {
   "cell_type": "code",
   "execution_count": 53,
   "metadata": {},
   "outputs": [
    {
     "name": "stdout",
     "output_type": "stream",
     "text": [
      "Accuracy: 0.37192203428917675 \n",
      " Time: 101.87882232666016\n"
     ]
    }
   ],
   "source": [
    "# Accuracy Viterbi decoding 7 states\n",
    "\n",
    "start_time = time()\n",
    "\n",
    "w = compute_w_log(hmm_7_state, translate_observations_to_indices(g2['genome2']))\n",
    "z_viterbi_log = backtrack_log(hmm_7_state, w, translate_observations_to_indices(g2['genome2']))\n",
    "v_27 = translate_indices_to_path_7state(z_viterbi_log)\n",
    "\n",
    "x = compute_accuracy(t2['true-ann2'],v_27)\n",
    "\n",
    "elapsed_time = time() - start_time\n",
    "\n",
    "print('Accuracy:',x,'\\n','Time:',elapsed_time)"
   ]
  },
  {
   "cell_type": "code",
   "execution_count": 54,
   "metadata": {},
   "outputs": [
    {
     "name": "stdout",
     "output_type": "stream",
     "text": [
      "Accuracy: 0.3379000988023884 \n",
      " Time: 70.08792996406555\n"
     ]
    }
   ],
   "source": [
    "# Accuracy Posterior decoding scaled 7 states\n",
    "\n",
    "start_time = time()\n",
    "\n",
    "z_posterior_scale = posterior_decoding(hmm_7_state, translate_observations_to_indices(g2['genome2']))\n",
    "p_27_scale = translate_indices_to_path_7state(z_posterior_scale)\n",
    "\n",
    "x = compute_accuracy(t2['true-ann2'],p_27_scale)\n",
    "\n",
    "elapsed_time = time() - start_time\n",
    "\n",
    "print('Accuracy:',x,'\\n','Time:',elapsed_time)"
   ]
  },
  {
   "cell_type": "code",
   "execution_count": 41,
   "metadata": {},
   "outputs": [
    {
     "name": "stdout",
     "output_type": "stream",
     "text": [
      "Accuracy: 0.3379000988023884 \n",
      " Time: 383.39364099502563\n"
     ]
    }
   ],
   "source": [
    "# Accuracy Posterior decoding log 7 states\n",
    "\n",
    "start_time = time()\n",
    "\n",
    "z_posterior = posterior_decoding_log(hmm_7_state, translate_observations_to_indices(g2['genome2']))\n",
    "p_27_log = translate_indices_to_path_7state(z_posterior)\n",
    "\n",
    "x = compute_accuracy(t2['true-ann2'],p_27_log)\n",
    "\n",
    "elapsed_time = time() - start_time\n",
    "\n",
    "print('Accuracy:',x,'\\n','Time:',elapsed_time)"
   ]
  },
  {
   "cell_type": "markdown",
   "metadata": {},
   "source": [
    "**Other measures of accuracy**"
   ]
  },
  {
   "cell_type": "code",
   "execution_count": 12,
   "metadata": {},
   "outputs": [],
   "source": [
    "def accuracy(x):\n",
    "    \n",
    "    # Check number of genes & location\n",
    "    \n",
    "    NC = 0 ; CN = 0 ; NR = 0 ; RN = 0\n",
    "    nor_genes_init = [] ; nor_genes_end  = []\n",
    "    rev_genes_init = [] ; rev_genes_end  = []\n",
    "    \n",
    "    for i in range(0,len(x)-2):\n",
    "        if x[i] == 'N':\n",
    "            if x[i+1] == 'C':\n",
    "                NC += 1\n",
    "                nor_genes_init.append(i)\n",
    "            elif x[i+1] == 'R':\n",
    "                NR += 1\n",
    "                rev_genes_init.append(i)\n",
    "        elif x[i+1] == 'N':\n",
    "            if x[i] == 'C':\n",
    "                CN += 1\n",
    "                nor_genes_end.append(i)\n",
    "            elif x[i] == 'R':\n",
    "                RN += 1\n",
    "                rev_genes_end.append(i)\n",
    "    \n",
    "    number = [NC,CN,NR,RN]\n",
    "    location = [nor_genes_init,nor_genes_end,rev_genes_init,rev_genes_end]\n",
    "    \n",
    "    return(number,location)\n",
    "\n",
    "        "
   ]
  },
  {
   "cell_type": "code",
   "execution_count": 22,
   "metadata": {},
   "outputs": [],
   "source": [
    "T1 = accuracy(t1['true-ann1'])\n",
    "T2 = accuracy(t2['true-ann2'])"
   ]
  },
  {
   "cell_type": "code",
   "execution_count": 59,
   "metadata": {},
   "outputs": [
    {
     "name": "stdout",
     "output_type": "stream",
     "text": [
      "[809, 808, 639, 639] [880, 880, 923, 923]\n"
     ]
    }
   ],
   "source": [
    "print(T1[0],T2[0])"
   ]
  },
  {
   "cell_type": "code",
   "execution_count": 60,
   "metadata": {},
   "outputs": [],
   "source": [
    "# Genome 1 - 3 states\n",
    "V13  = accuracy(v_13)\n",
    "P13  = accuracy(p_13_scale)\n",
    "P13L = accuracy(p_13_log)\n",
    "\n",
    "# Genome 1 - 7 states\n",
    "V17  = accuracy(v_17)\n",
    "P17  = accuracy(p_17_scale)\n",
    "P17L = accuracy(p_17_log)\n",
    "\n",
    "# Genome 2 - 3 states\n",
    "V23  = accuracy(v_23)\n",
    "P23  = accuracy(p_23_scale)\n",
    "P23L = accuracy(p_23_log)\n",
    "\n",
    "# Genome 2 - 7 states\n",
    "V27  = accuracy(v_27)\n",
    "P27  = accuracy(p_27_scale)\n",
    "P27L = accuracy(p_27_log)"
   ]
  },
  {
   "cell_type": "code",
   "execution_count": 61,
   "metadata": {},
   "outputs": [
    {
     "name": "stdout",
     "output_type": "stream",
     "text": [
      "[2719, 2718, 27, 27] \n",
      " [2592, 2591, 155, 155] \n",
      " [3014, 3013, 14, 14] \n",
      " [3253, 3252, 161, 161]\n"
     ]
    }
   ],
   "source": [
    "print(V13[0],'\\n',V17[0],'\\n',V23[0],'\\n',V27[0])"
   ]
  },
  {
   "cell_type": "code",
   "execution_count": 62,
   "metadata": {},
   "outputs": [
    {
     "name": "stdout",
     "output_type": "stream",
     "text": [
      "[41712, 41712, 2128, 2128] \n",
      " [25102, 25187, 3010, 2924] \n",
      " [52481, 52480, 1481, 1481] \n",
      " [27094, 27166, 2394, 2321]\n"
     ]
    }
   ],
   "source": [
    "print(P13[0],'\\n',P17[0],'\\n',P23[0],'\\n',P27[0])"
   ]
  },
  {
   "cell_type": "code",
   "execution_count": 64,
   "metadata": {},
   "outputs": [
    {
     "name": "stdout",
     "output_type": "stream",
     "text": [
      "[0, 0, 0, 0] \n",
      " [0, 0, 0, 0] \n",
      " [0, 0, 0, 0] \n",
      " [0, 0, 0, 0]\n"
     ]
    }
   ],
   "source": [
    "print(P13L[0],'\\n',P17L[0],'\\n',P23L[0],'\\n',P27L[0]) # All the code is R and C so the script is not counting nothing"
   ]
  },
  {
   "cell_type": "markdown",
   "metadata": {},
   "source": [
    "**Counting**"
   ]
  },
  {
   "cell_type": "code",
   "execution_count": 2,
   "metadata": {},
   "outputs": [],
   "source": [
    "def translate_path_to_indices_7state(path):\n",
    "    path = list(path)\n",
    "    \n",
    "    # Define the first indice of the path\n",
    "    \n",
    "    if path[0] == 'N':\n",
    "        path[0] = 3\n",
    "    elif path[0] == 'C':\n",
    "        path[0] = 2\n",
    "    else:\n",
    "        path[0] = 4\n",
    "    \n",
    "    # Define the rest indices of the path\n",
    "    \n",
    "    for i in range(1,len(path)):\n",
    "        if path[i] == 'N':\n",
    "            path[i] = 3\n",
    "        elif path[i] == 'C':\n",
    "            if path[i-1] == 3:\n",
    "                path[i] = 2\n",
    "            elif path[i-1] == 2:\n",
    "                path[i] = 1\n",
    "            elif path[i-1] == 1:\n",
    "                path[i] = 0\n",
    "            else:\n",
    "                path[i] = 2\n",
    "        elif path[i] == 'R':\n",
    "            if path[i-1] == 3:\n",
    "                path[i] = 4\n",
    "            elif path[i-1] == 4:\n",
    "                path[i] = 5\n",
    "            elif path[i-1] == 5:\n",
    "                path[i] = 6\n",
    "            else:\n",
    "                path[i] = 4\n",
    "                \n",
    "    return path"
   ]
  },
  {
   "cell_type": "code",
   "execution_count": 3,
   "metadata": {},
   "outputs": [],
   "source": [
    "def translate_path_to_indices_3state(path):\n",
    "    path = list(path)\n",
    "    \n",
    "    # Define the first indice of the path\n",
    "\n",
    "    for i in range(0,len(path)):  \n",
    "        if path[i] == 'N':\n",
    "            path[i] = 1\n",
    "        elif path[i] == 'C':\n",
    "            path[i] = 0\n",
    "        else:\n",
    "            path[i] = 2\n",
    "                \n",
    "    return path"
   ]
  },
  {
   "cell_type": "code",
   "execution_count": 4,
   "metadata": {},
   "outputs": [],
   "source": [
    "def hmm_7_or_3_state_init_probs(path, num):\n",
    "    if num == 7:\n",
    "        ind = translate_path_to_indices_7state(path)\n",
    "    else:\n",
    "        ind = translate_path_to_indices_3state(path)\n",
    "    # Columns\n",
    "    n = max(ind) + 1\n",
    "    # Rows\n",
    "    m = 1\n",
    "    \n",
    "    if num == 7:\n",
    "        t = [0,0,0,0,0,0,0]\n",
    "    else:\n",
    "        t = [0,0,0]\n",
    "    \n",
    "    p = ind[0]\n",
    "    t[p] = 1.00\n",
    "    \n",
    "    return t"
   ]
  },
  {
   "cell_type": "code",
   "execution_count": 5,
   "metadata": {},
   "outputs": [],
   "source": [
    "def hmm_7_or_3_state_trans_probs(path, num):\n",
    "    if num == 7:\n",
    "        ind = translate_path_to_indices_7state(path)\n",
    "    else:\n",
    "        ind = translate_path_to_indices_3state(path)\n",
    "        \n",
    "    n = max(ind) + 1\n",
    "    t = make_table(n,n)\n",
    "    \n",
    "    for i in range(0,len(ind)-1):\n",
    "        a , b = ind[i], ind[i+1]\n",
    "        t[a][b] += 1\n",
    "    \n",
    "    for i in range(0,len(t)):\n",
    "        total_row = sum(t[i])\n",
    "        for j in range(0,len(t[i])):\n",
    "            if t[i][j] == 0:\n",
    "                pass\n",
    "            else:\n",
    "                t[i][j] /= total_row\n",
    "    \n",
    "    return t"
   ]
  },
  {
   "cell_type": "code",
   "execution_count": 6,
   "metadata": {},
   "outputs": [],
   "source": [
    "def hmm_7_or_3_state_emission_probs(path, g, num):\n",
    "    if num == 7:\n",
    "        ind = translate_path_to_indices_7state(path)\n",
    "    else:\n",
    "        ind = translate_path_to_indices_3state(path)\n",
    "        \n",
    "    if g == 'genome1':\n",
    "        nuc = translate_observations_to_indices(g1['genome1'])\n",
    "    else:\n",
    "        nuc = translate_observations_to_indices(g2['genome2'])\n",
    "    \n",
    "    m = max(ind) + 1\n",
    "    n = max(nuc) + 1\n",
    "    \n",
    "    t = make_table(m,n)\n",
    "      \n",
    "    for i in range(0,len(ind)-1):\n",
    "        a , b = ind[i], nuc[i+1]\n",
    "        t[a][b] += 1\n",
    "    \n",
    "    for i in range(0,len(t)):\n",
    "        total_row = sum(t[i])   \n",
    "        for j in range(0,len(t[i])):\n",
    "            if t[i][j] == 0:\n",
    "                pass\n",
    "            else:\n",
    "                t[i][j] /= total_row\n",
    "    \n",
    "    return t"
   ]
  },
  {
   "cell_type": "code",
   "execution_count": 19,
   "metadata": {},
   "outputs": [],
   "source": [
    "# True annotation genome1 3states\n",
    "\n",
    "hmm_13 = hmm(hmm_7_or_3_state_init_probs(t1['true-ann1'], 3),\n",
    "      hmm_7_or_3_state_trans_probs(t1['true-ann1'], 3),\n",
    "     hmm_7_or_3_state_emission_probs(t1['true-ann1'], 'genome1', 3))"
   ]
  },
  {
   "cell_type": "code",
   "execution_count": null,
   "metadata": {},
   "outputs": [],
   "source": [
    "'''\n",
    "\n",
    "Trained Model : Genome 1 and 3 states\n",
    " \n",
    "Initital Probabilities = [0, 1.0, 0] \n",
    "\n",
    "Transtion Probabilities = [[0.9988894791533686, 0.001110520846631443, 0],\n",
    "                           [0.0016014220786418991, 0.9971336722251255, 0.0012649056962326002],\n",
    "                           [0, 0.0010326822102308263, 0.9989673177897692]] \n",
    "\n",
    "Emission Probabilities = [[0.3122705003658267, 0.1827774551913761, 0.20979646857116188, 0.2951555758716353],\n",
    "                          [0.3195896083741112, 0.17878323594153325, 0.1864102807734334, 0.31521687491092215],\n",
    "                          [0.29638949088282207, 0.20989952761657268, 0.18275727766222727, 0.31095370383837795]]\n",
    "\n",
    "'''"
   ]
  },
  {
   "cell_type": "code",
   "execution_count": 20,
   "metadata": {},
   "outputs": [],
   "source": [
    "# True annotation genome1 7states\n",
    "\n",
    "hmm_17 = hmm(hmm_7_or_3_state_init_probs(t1['true-ann1'], 7),\n",
    "      hmm_7_or_3_state_trans_probs(t1['true-ann1'], 7),\n",
    "     hmm_7_or_3_state_emission_probs(t1['true-ann1'], 'genome1', 7))"
   ]
  },
  {
   "cell_type": "code",
   "execution_count": null,
   "metadata": {},
   "outputs": [],
   "source": [
    "''' \n",
    "\n",
    "Trained Model : Genome 1 and 7 states\n",
    "\n",
    "Initital Probabilities = [0, 0, 0, 1.0, 0, 0, 0]\n",
    "\n",
    "Transtion Probabilities = [[0, 0, 0.9966684374601057, 0.003331562539894329, 0, 0, 0],\n",
    "                           [1.0, 0, 0, 0, 0, 0, 0], [0, 1.0, 0, 0, 0, 0, 0],\n",
    "                           [0, 0, 0.0016014220786418991, 0.9971336722251255, 0.0012649056962326002, 0, 0],\n",
    "                           [ 0, 0, 0, 0, 0, 1.0, 0], [0, 0, 0, 0, 0, 0, 1.0],\n",
    "                           [0, 0, 0, 0.003098046630692479, 0.9969019533693075, 0, 0]] \n",
    "\n",
    "Emission Probabilities = [[0.3017020207635826, 0.17395368757438362, 0.3344575812608873, 0.1898867104011465],\n",
    "                          [0.2961096079957501, 0.16491440478690766, 0.15356485428017247, 0.3854111329371698],\n",
    "                          [0.33899987233814743, 0.209464273212837, 0.14136697017242586, 0.3101688842765897],\n",
    "                          [0.3195896083741112, 0.17878323594153325, 0.1864102807734334, 0.31521687491092215],\n",
    "                          [0.30937801501995066, 0.14241317954610466, 0.21114230166926048, 0.3370665037646842],\n",
    "                          [0.19398911077819633, 0.33015286605675387, 0.17478510028653296, 0.30107292287851684],\n",
    "                          [0.38580134685031925, 0.15713253724685952, 0.16234443103088836, 0.29472168487193284]]\n",
    "'''"
   ]
  },
  {
   "cell_type": "code",
   "execution_count": 22,
   "metadata": {},
   "outputs": [],
   "source": [
    "# True annotation genome2 3states\n",
    "\n",
    "hmm_23 = hmm(hmm_7_or_3_state_init_probs(t2['true-ann2'], 3),\n",
    "    hmm_7_or_3_state_trans_probs(t2['true-ann2'], 3),\n",
    "     hmm_7_or_3_state_emission_probs(t2['true-ann2'], 'genome2', 3))"
   ]
  },
  {
   "cell_type": "code",
   "execution_count": null,
   "metadata": {},
   "outputs": [],
   "source": [
    "'''\n",
    "\n",
    "Trained Model : Genome 2 and 7 states\n",
    "\n",
    "Initial Probabilities = [0, 1.0, 0]\n",
    "\n",
    "Transtion Probabilities = [[0.9989360828526987, 0.0010627095228434242, 1.2076244577766184e-06],\n",
    " [0.0017498299881091098, 0.9964148369675446, 0.0018353330443462595],\n",
    " [1.1357106027670454e-06, 0.001048260886353983, 0.9989506034030432]]\n",
    "\n",
    "Emission Probabilities = [[0.3315798626206417, 0.1642272652619579, 0.19844771952197393, 0.3057451525954265],\n",
    " [0.3313919499866774, 0.16668721391273916, 0.17059450473846008, 0.33132633136212336],\n",
    " [0.3089484909813221, 0.19818945015706876, 0.16291314312452157, 0.3299489157370875]]\n",
    "\n",
    "'''"
   ]
  },
  {
   "cell_type": "code",
   "execution_count": 21,
   "metadata": {},
   "outputs": [],
   "source": [
    "# True annotation genome2 7states\n",
    "\n",
    "hmm_27 = hmm(hmm_7_or_3_state_init_probs(t2['true-ann2'], 7),\n",
    "    hmm_7_or_3_state_trans_probs(t2['true-ann2'], 7),\n",
    "     hmm_7_or_3_state_emission_probs(t2['true-ann2'], 'genome2', 7))"
   ]
  },
  {
   "cell_type": "code",
   "execution_count": null,
   "metadata": {},
   "outputs": [],
   "source": [
    "'''\n",
    "\n",
    "Trained Model : Genome 2 and 7 states\n",
    "\n",
    "Initial Probabilities = [0, 0, 0, 1.0, 0, 0, 0]\n",
    "\n",
    "Transtion Probabilities = [[0, 0, 0.9968082485580964, 0.003188128568530273, 3.6228733733298553e-06, 0, 0],\n",
    "                           [1.0, 0, 0, 0, 0, 0, 0],\n",
    "                           [0, 1.0, 0, 0, 0, 0, 0],\n",
    "                           [0, 0, 0.0017498299881091098, 0.9964148369675446, 0.0018353330443462595, 0, 0],\n",
    "                           [0, 0, 0, 0, 0, 1.0, 0],\n",
    "                           [0, 0, 0, 0, 0, 0, 1.0],\n",
    "                           [0, 0, 3.407131808301136e-06, 0.0031447826590619483, 0.9968518102091297, 0, 0]]\n",
    "\n",
    "Emission Probabilities = [[0.3130053908355795, 0.16399298611714924, 0.32614192968727357, 0.19685969335999767],\n",
    "                          [0.3331485667912935, 0.12390951511462771, 0.13238341593484623, 0.4105585021592325],\n",
    "                          [0.348585630235052, 0.20477929455409674, 0.136817812943802, 0.30981726226704925],\n",
    "                          [0.3313919499866774, 0.16668721391273916, 0.17059450473846008, 0.33132633136212336],\n",
    "                          [0.31448848730161977, 0.1379990596316209, 0.2027413782529591, 0.34477107481380026],\n",
    "                          [0.20291854910699075, 0.31772185538769754, 0.16314369237688328, 0.3162159031284284],\n",
    "                          [0.40943843653535583, 0.13884743545188788, 0.12285435874372236, 0.32885976926903393]]\n",
    "                          \n",
    "'''"
   ]
  },
  {
   "cell_type": "markdown",
   "metadata": {},
   "source": [
    "**Training by count and prediction**"
   ]
  },
  {
   "cell_type": "markdown",
   "metadata": {},
   "source": [
    "**Predict of Genome1 with the count/train of Genome2 - 3 states**"
   ]
  },
  {
   "cell_type": "code",
   "execution_count": 107,
   "metadata": {},
   "outputs": [
    {
     "name": "stdout",
     "output_type": "stream",
     "text": [
      "Accuracy: 0.5899194630220341 \n",
      " Time: 21.763731479644775\n"
     ]
    }
   ],
   "source": [
    "# Accuracy Vitebi decoding 3 states\n",
    "\n",
    "start_time = time()\n",
    "\n",
    "w = compute_w_log(hmm_23, translate_observations_to_indices(g1['genome1']))\n",
    "z_viterbi_log = backtrack_log(hmm_23, w, translate_observations_to_indices(g1['genome1']))\n",
    "v_13 = translate_indices_to_path_3state(z_viterbi_log)\n",
    "\n",
    "x = compute_accuracy(t1['true-ann1'],v_13)\n",
    "\n",
    "elapsed_time = time() - start_time\n",
    "\n",
    "print('Accuracy:',x,'\\n','Time:',elapsed_time)"
   ]
  },
  {
   "cell_type": "code",
   "execution_count": 108,
   "metadata": {},
   "outputs": [
    {
     "name": "stdout",
     "output_type": "stream",
     "text": [
      "Accuracy: 0.6063718088727252 \n",
      " Time: 22.870445489883423\n"
     ]
    }
   ],
   "source": [
    "# Accuracy Posterior decoding scaled 3 states\n",
    "\n",
    "start_time = time()\n",
    "\n",
    "z_posterior_scale = posterior_decoding(hmm_23, translate_observations_to_indices(g1['genome1']))\n",
    "p_13_scale = translate_indices_to_path_3state(z_posterior_scale)\n",
    "\n",
    "x = compute_accuracy(t1['true-ann1'],p_13_scale)\n",
    "                     \n",
    "elapsed_time = time() - start_time\n",
    "\n",
    "print('Accuracy:',x,'\\n','Time:',elapsed_time)"
   ]
  },
  {
   "cell_type": "code",
   "execution_count": 33,
   "metadata": {},
   "outputs": [
    {
     "name": "stdout",
     "output_type": "stream",
     "text": [
      "Accuracy: 0.11725717580209033 \n",
      " Time: 65.41012620925903\n"
     ]
    }
   ],
   "source": [
    "# Accuracy Posterior decoding log scaling 3 states\n",
    "\n",
    "start_time = time()\n",
    "\n",
    "z_posterior = posterior_decoding_log(hmm_23, translate_observations_to_indices(g1['genome1']))\n",
    "p_13_log = translate_indices_to_path_3state(z_posterior)\n",
    "\n",
    "x = compute_accuracy(t1['true-ann1'],p_13_log)\n",
    "\n",
    "elapsed_time = time() - start_time\n",
    "\n",
    "print('Accuracy:',x,'\\n','Time:',elapsed_time)"
   ]
  },
  {
   "cell_type": "markdown",
   "metadata": {},
   "source": [
    "**Predict of Genome1 with the count/train of Genome2 - 7 states**"
   ]
  },
  {
   "cell_type": "code",
   "execution_count": 110,
   "metadata": {},
   "outputs": [
    {
     "name": "stdout",
     "output_type": "stream",
     "text": [
      "Accuracy: 0.7645501260229071 \n",
      " Time: 94.7811233997345\n"
     ]
    }
   ],
   "source": [
    "# Accuracy Vitebi decoding 3 states\n",
    "\n",
    "start_time = time()\n",
    "\n",
    "w = compute_w_log(hmm_27, translate_observations_to_indices(g1['genome1']))\n",
    "z_viterbi_log = backtrack_log(hmm_27, w, translate_observations_to_indices(g1['genome1']))\n",
    "v_17 = translate_indices_to_path_7state(z_viterbi_log)\n",
    "\n",
    "x = compute_accuracy(t1['true-ann1'],v_17)\n",
    "\n",
    "elapsed_time = time() - start_time\n",
    "\n",
    "print('Accuracy:',x,'\\n','Time:',elapsed_time)"
   ]
  },
  {
   "cell_type": "code",
   "execution_count": 111,
   "metadata": {},
   "outputs": [
    {
     "name": "stdout",
     "output_type": "stream",
     "text": [
      "Accuracy: 0.7655973928454402 \n",
      " Time: 66.90259075164795\n"
     ]
    }
   ],
   "source": [
    "# Accuracy Posterior decoding scaled 7 states\n",
    "\n",
    "start_time = time()\n",
    "\n",
    "z_posterior_scale = posterior_decoding(hmm_27, translate_observations_to_indices(g1['genome1']))\n",
    "p_17_scale = translate_indices_to_path_7state(z_posterior_scale)\n",
    "\n",
    "x = compute_accuracy(t1['true-ann1'],p_17_scale)\n",
    "                     \n",
    "elapsed_time = time() - start_time\n",
    "\n",
    "print('Accuracy:',x,'\\n','Time:',elapsed_time)"
   ]
  },
  {
   "cell_type": "code",
   "execution_count": 34,
   "metadata": {},
   "outputs": [
    {
     "name": "stdout",
     "output_type": "stream",
     "text": [
      "Accuracy: 0.35302500862375646 \n",
      " Time: 297.42468070983887\n"
     ]
    }
   ],
   "source": [
    "# Accuracy Posterior decoding log scaling 7 states\n",
    "\n",
    "start_time = time()\n",
    "\n",
    "z_posterior = posterior_decoding_log(hmm_27, translate_observations_to_indices(g1['genome1']))\n",
    "p_17_log = translate_indices_to_path_7state(z_posterior)\n",
    "\n",
    "x = compute_accuracy(t1['true-ann1'],p_17_log)\n",
    "\n",
    "elapsed_time = time() - start_time\n",
    "\n",
    "print('Accuracy:',x,'\\n','Time:',elapsed_time)"
   ]
  },
  {
   "cell_type": "markdown",
   "metadata": {},
   "source": [
    "**Predict of Genome2 with the count/train of Genome1 - 3 states**"
   ]
  },
  {
   "cell_type": "code",
   "execution_count": 112,
   "metadata": {},
   "outputs": [
    {
     "name": "stdout",
     "output_type": "stream",
     "text": [
      "Accuracy: 0.5695815255360086 \n",
      " Time: 26.726597785949707\n"
     ]
    }
   ],
   "source": [
    "# Accuracy Vitebi decoding 3 states\n",
    "\n",
    "start_time = time()\n",
    "\n",
    "w = compute_w_log(hmm_13, translate_observations_to_indices(g2['genome2']))\n",
    "z_viterbi_log = backtrack_log(hmm_13, w, translate_observations_to_indices(g2['genome2']))\n",
    "v_23 = translate_indices_to_path_3state(z_viterbi_log)\n",
    "\n",
    "x = compute_accuracy(t2['true-ann2'],v_23)\n",
    "\n",
    "elapsed_time = time() - start_time\n",
    "\n",
    "print('Accuracy:',x,'\\n','Time:',elapsed_time)"
   ]
  },
  {
   "cell_type": "code",
   "execution_count": 26,
   "metadata": {},
   "outputs": [
    {
     "name": "stdout",
     "output_type": "stream",
     "text": [
      "Accuracy: 0.5667494918572814 \n",
      " Time: 21.267290830612183\n"
     ]
    }
   ],
   "source": [
    "# Accuracy Posterior decoding scaled 3 states\n",
    "\n",
    "start_time = time()\n",
    "\n",
    "z_posterior_scale = posterior_decoding(hmm_13, translate_observations_to_indices(g2['genome2']))\n",
    "p_23_scale = translate_indices_to_path_3state(z_posterior_scale)\n",
    "\n",
    "x = compute_accuracy(t2['true-ann2'],p_23_scale)\n",
    "                     \n",
    "elapsed_time = time() - start_time\n",
    "\n",
    "print('Accuracy:',x,'\\n','Time:',elapsed_time)"
   ]
  },
  {
   "cell_type": "code",
   "execution_count": 32,
   "metadata": {},
   "outputs": [
    {
     "name": "stdout",
     "output_type": "stream",
     "text": [
      "Accuracy: 0.09770131834491304 \n",
      " Time: 76.4035279750824\n"
     ]
    }
   ],
   "source": [
    "# Accuracy Posterior decoding log 3 states\n",
    "\n",
    "start_time = time()\n",
    "\n",
    "z_posterior = posterior_decoding_log(hmm_13, translate_observations_to_indices(g2['genome2']))\n",
    "p_23_log = translate_indices_to_path_3state(z_posterior)\n",
    "\n",
    "x = compute_accuracy(t2['true-ann2'],p_23_log)\n",
    "\n",
    "elapsed_time = time() - start_time\n",
    "\n",
    "print('Accuracy:',x,'\\n','Time:',elapsed_time)"
   ]
  },
  {
   "cell_type": "markdown",
   "metadata": {},
   "source": [
    "**Predict of Genome2 with the count/train of Genome1 - 7 states**"
   ]
  },
  {
   "cell_type": "code",
   "execution_count": 114,
   "metadata": {},
   "outputs": [
    {
     "name": "stdout",
     "output_type": "stream",
     "text": [
      "Accuracy: 0.7822644060439026 \n",
      " Time: 108.87345004081726\n"
     ]
    }
   ],
   "source": [
    "# Accuracy Vitebi decoding 7 states\n",
    "\n",
    "start_time = time()\n",
    "\n",
    "w = compute_w_log(hmm_17, translate_observations_to_indices(g2['genome2']))\n",
    "z_viterbi_log = backtrack_log(hmm_17, w, translate_observations_to_indices(g2['genome2']))\n",
    "v_27 = translate_indices_to_path_7state(z_viterbi_log)\n",
    "\n",
    "x = compute_accuracy(t2['true-ann2'],v_27)\n",
    "\n",
    "elapsed_time = time() - start_time\n",
    "\n",
    "print('Accuracy:',x,'\\n','Time:',elapsed_time)"
   ]
  },
  {
   "cell_type": "code",
   "execution_count": 115,
   "metadata": {},
   "outputs": [
    {
     "name": "stdout",
     "output_type": "stream",
     "text": [
      "Accuracy: 0.793535113283608 \n",
      " Time: 79.68265318870544\n"
     ]
    }
   ],
   "source": [
    "# Accuracy Posterior decoding scaled 7 states\n",
    "\n",
    "start_time = time()\n",
    "\n",
    "z_posterior_scale = posterior_decoding(hmm_17, translate_observations_to_indices(g2['genome2']))\n",
    "p_27_scale = translate_indices_to_path_7state(z_posterior_scale)\n",
    "\n",
    "x = compute_accuracy(t2['true-ann2'],p_27_scale)\n",
    "                     \n",
    "elapsed_time = time() - start_time\n",
    "\n",
    "print('Accuracy:',x,'\\n','Time:',elapsed_time)"
   ]
  },
  {
   "cell_type": "code",
   "execution_count": 35,
   "metadata": {},
   "outputs": [
    {
     "name": "stdout",
     "output_type": "stream",
     "text": [
      "Accuracy: 0.36800520916940427 \n",
      " Time: 352.85327553749084\n"
     ]
    }
   ],
   "source": [
    "# Accuracy Posterior decoding log 7 states\n",
    "\n",
    "start_time = time()\n",
    "\n",
    "z_posterior = posterior_decoding_log(hmm_17, translate_observations_to_indices(g2['genome2']))\n",
    "p_27_log = translate_indices_to_path_7state(z_posterior)\n",
    "\n",
    "x = compute_accuracy(t2['true-ann2'],p_27_log)\n",
    "\n",
    "elapsed_time = time() - start_time\n",
    "\n",
    "print('Accuracy:',x,'\\n','Time:',elapsed_time)"
   ]
  },
  {
   "cell_type": "markdown",
   "metadata": {},
   "source": [
    "**Results for accuracy from C.Storm**"
   ]
  },
  {
   "cell_type": "code",
   "execution_count": 11,
   "metadata": {},
   "outputs": [],
   "source": [
    "# Read all the outputs from the algorithms of C.Storm\n",
    "\n",
    "# Viterbi decoding\n",
    "v13 = open(\"/home/agomez/Universidad/2o cuatri/PiB/Project/Cstorm/HMM/outputs/v13.txt\", \"r\").read().replace('\\n', '')\n",
    "v17 = open(\"/home/agomez/Universidad/2o cuatri/PiB/Project/Cstorm/HMM/outputs/v17.txt\", \"r\").read().replace('\\n', '')\n",
    "v23 = open(\"/home/agomez/Universidad/2o cuatri/PiB/Project/Cstorm/HMM/outputs/v23.txt\", \"r\").read().replace('\\n', '')\n",
    "v27 = open(\"/home/agomez/Universidad/2o cuatri/PiB/Project/Cstorm/HMM/outputs/v27.txt\", \"r\").read().replace('\\n', '')\n",
    "\n",
    "# Posterior decoding\n",
    "p13 = open(\"/home/agomez/Universidad/2o cuatri/PiB/Project/Cstorm/HMM/outputs/p13.txt\", \"r\").read().replace('\\n', '')\n",
    "p17 = open(\"/home/agomez/Universidad/2o cuatri/PiB/Project/Cstorm/HMM/outputs/p17.txt\", \"r\").read().replace('\\n', '')\n",
    "p23 = open(\"/home/agomez/Universidad/2o cuatri/PiB/Project/Cstorm/HMM/outputs/p23.txt\", \"r\").read().replace('\\n', '')\n",
    "p27 = open(\"/home/agomez/Universidad/2o cuatri/PiB/Project/Cstorm/HMM/outputs/p27.txt\", \"r\").read().replace('\\n', '')\n",
    "\n",
    "# Posterior log decoding\n",
    "pl13 = open(\"/home/agomez/Universidad/2o cuatri/PiB/Project/Cstorm/HMM/outputs/pl13.txt\", \"r\").read().replace('\\n', '')\n",
    "pl17 = open(\"/home/agomez/Universidad/2o cuatri/PiB/Project/Cstorm/HMM/outputs/pl17.txt\", \"r\").read().replace('\\n', '')\n",
    "pl23 = open(\"/home/agomez/Universidad/2o cuatri/PiB/Project/Cstorm/HMM/outputs/pl23.txt\", \"r\").read().replace('\\n', '')\n",
    "pl27 = open(\"/home/agomez/Universidad/2o cuatri/PiB/Project/Cstorm/HMM/outputs/pl27.txt\", \"r\").read().replace('\\n', '')"
   ]
  },
  {
   "cell_type": "code",
   "execution_count": 12,
   "metadata": {},
   "outputs": [],
   "source": [
    "# Modify the outputs to return the correct format\n",
    "\n",
    "# Viterbi decoding\n",
    "v13 = [int(n) for n in list(v13)]\n",
    "v17 = [int(n) for n in list(v17)]\n",
    "v23 = [int(n) for n in list(v23)]\n",
    "v27 = [int(n) for n in list(v27)]\n",
    "\n",
    "# Posterior decoding\n",
    "p13 = [int(n) for n in list(p13)]\n",
    "p17 = [int(n) for n in list(p17)]\n",
    "p23 = [int(n) for n in list(p23)]\n",
    "p27 = [int(n) for n in list(p27)]\n",
    "\n",
    "# Posterior log decoding\n",
    "pl13 = [int(n) for n in list(pl13)]\n",
    "pl17 = [int(n) for n in list(pl17)]\n",
    "pl23 = [int(n) for n in list(pl23)]\n",
    "pl27 = [int(n) for n in list(pl27)]"
   ]
  },
  {
   "cell_type": "code",
   "execution_count": 13,
   "metadata": {},
   "outputs": [],
   "source": [
    "# Translate indices to path\n",
    "\n",
    "# Viterbi decoding\n",
    "v13 = translate_indices_to_path_3state(v13)\n",
    "v17 = translate_indices_to_path_7state(v17)\n",
    "v23 = translate_indices_to_path_3state(v23)\n",
    "v27 = translate_indices_to_path_7state(v27)\n",
    "\n",
    "# Posterior decoding\n",
    "p13 = translate_indices_to_path_3state(p13)\n",
    "p17 = translate_indices_to_path_7state(p17)\n",
    "p23 = translate_indices_to_path_3state(p23)\n",
    "p27 = translate_indices_to_path_7state(p27)\n",
    "\n",
    "# Posterior log decoding\n",
    "pl13 = translate_indices_to_path_3state(pl13)\n",
    "pl17 = translate_indices_to_path_7state(pl17)\n",
    "pl23 = translate_indices_to_path_3state(pl23)\n",
    "pl27 = translate_indices_to_path_7state(pl27)"
   ]
  },
  {
   "cell_type": "code",
   "execution_count": 16,
   "metadata": {},
   "outputs": [
    {
     "name": "stdout",
     "output_type": "stream",
     "text": [
      "v13: 0.31873349812490653 v17: 0.3919363693634507 v23: 0.35088368223162264 v27: 0.37192203428917675\n"
     ]
    }
   ],
   "source": [
    "# Viterbi accuracy\n",
    "print(\n",
    "    'v13:', compute_accuracy(t1['true-ann1'],v13),\n",
    "    'v17:', compute_accuracy(t1['true-ann1'],v17),\n",
    "    'v23:', compute_accuracy(t2['true-ann2'],v23),\n",
    "    'v27:', compute_accuracy(t2['true-ann2'],v27)\n",
    ")"
   ]
  },
  {
   "cell_type": "code",
   "execution_count": 17,
   "metadata": {},
   "outputs": [
    {
     "name": "stdout",
     "output_type": "stream",
     "text": [
      "p13: 0.3020501057793474 p17: 0.3563395541342477 p23: 0.2972260720737423 p27: 0.3379000988023884\n"
     ]
    }
   ],
   "source": [
    "# Posterior accuracy\n",
    "print(\n",
    "    'p13:', compute_accuracy(t1['true-ann1'],p13),\n",
    "    'p17:', compute_accuracy(t1['true-ann1'],p17),\n",
    "    'p23:', compute_accuracy(t2['true-ann2'],p23),\n",
    "    'p27:', compute_accuracy(t2['true-ann2'],p27)\n",
    ")"
   ]
  },
  {
   "cell_type": "code",
   "execution_count": 18,
   "metadata": {},
   "outputs": [
    {
     "name": "stdout",
     "output_type": "stream",
     "text": [
      "pl13: 0.3020501057793474 pl17: 0.3563395541342477 pl23: 0.2972260720737423 pl27: 0.3379000988023884\n"
     ]
    }
   ],
   "source": [
    "# Posterior accuracy\n",
    "print(\n",
    "    'pl13:', compute_accuracy(t1['true-ann1'],pl13),\n",
    "    'pl17:', compute_accuracy(t1['true-ann1'],pl17),\n",
    "    'pl23:', compute_accuracy(t2['true-ann2'],pl23),\n",
    "    'pl27:', compute_accuracy(t2['true-ann2'],pl27)\n",
    ")"
   ]
  }
 ],
 "metadata": {
  "kernelspec": {
   "display_name": "Python 3",
   "language": "python",
   "name": "python3"
  },
  "language_info": {
   "codemirror_mode": {
    "name": "ipython",
    "version": 3
   },
   "file_extension": ".py",
   "mimetype": "text/x-python",
   "name": "python",
   "nbconvert_exporter": "python",
   "pygments_lexer": "ipython3",
   "version": "3.6.8"
  }
 },
 "nbformat": 4,
 "nbformat_minor": 2
}
